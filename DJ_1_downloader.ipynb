{
 "cells": [
  {
   "cell_type": "code",
   "execution_count": 10,
   "id": "404c1a7f-ed5b-409a-8f1a-a3e9d2edb140",
   "metadata": {},
   "outputs": [],
   "source": [
    "playlists = { #\"https://open.spotify.com/playlist/0QmNIn1njdfGkdGAUYHaUC\" : \"Test\",\n",
    "              \"https://open.spotify.com/playlist/4S8v3ujO68908Q3H2sJblp\": \"House\",\n",
    "              \"https://open.spotify.com/playlist/4S8v3ujO68908Q3H2sJblp\": \"House Slow\",\n",
    "              \"https://open.spotify.com/playlist/6nbkCCaVaPwUXF4onz43jW\": \"House Deep\",\n",
    "              \"https://open.spotify.com/playlist/56MlUhgIVjAoeYIfywRYpK\": \"House Deep Vocal\",\n",
    "              \"https://open.spotify.com/playlist/5Fhu6PaWXgd631MKYAzsFB\": \"House Deep Love\",\n",
    "              \"https://open.spotify.com/playlist/6TEcoTjgcga0Qb3n6r2ONG\": \"House Progressive\",\n",
    "              \"https://open.spotify.com/playlist/7kIsIWfMWvTzJ7Zg7FvY6Y\": \"House Sax\",\n",
    "              \"https://open.spotify.com/playlist/5BroYYpu9DfEj4HH2PcSBI\": \"House Violin\",             \n",
    "              \"https://open.spotify.com/playlist/3xDpLVShgPWFn69SDGAGrx\": \"House Jungle\",\n",
    "              \"https://open.spotify.com/playlist/4tzX4vibcx3ZldN9YDC0xu\": \"House Organic\",\n",
    "              \"https://open.spotify.com/playlist/3FT7nOj1TacyFgr0yQs94a\": \"House Anatolian\",             \n",
    "              \"https://open.spotify.com/playlist/7bZxRLsPk7CkIkAFVX42Vx\": \"House Turkish\",\n",
    "              \"https://open.spotify.com/playlist/78ZzNGOPcMo1T2UUsGaFOa\": \"House Tech\",\n",
    "              \"https://open.spotify.com/playlist/7wFInys7nVgeEt0aFI6gzP\": \"Techno Slow\",             \n",
    "              \"https://open.spotify.com/playlist/3UhV1KO3qRJYDCJMNL1mXh\": \"Techno Dark\",\n",
    "              \"https://open.spotify.com/playlist/7BETCGIMwB7uNhRI4fbWx2\": \"Techno Organic\",\n",
    "              \"https://open.spotify.com/playlist/7LtxehSjXGGGfyyCwdUa54\": \"Techno Dub Slow\",             \n",
    "              \"https://open.spotify.com/playlist/539YUugznMDQINErKWR0la\": \"Organic Chill\",\n",
    "              \"https://open.spotify.com/playlist/6FKSZO6pgS1mFy7r36Spa0\": \"Organic Sad\",\n",
    "              \"https://open.spotify.com/playlist/2OBOQOl8932r8QuxjmaBer\": \"Organic Dark\",             \n",
    "              \"https://open.spotify.com/playlist/2uCqSxSRL3EdQDZ75Ohj83\": \"Organic Fun\"\n",
    "            }"
   ]
  },
  {
   "cell_type": "code",
   "execution_count": 12,
   "id": "1cf7158d-240a-4bb1-93cc-fbe30c4ff40a",
   "metadata": {
    "scrolled": true,
    "tags": []
   },
   "outputs": [],
   "source": [
    "%%capture logs\n",
    "import os\n",
    "\n",
    "root_dj = \"/Users/alper/Documents/DJ\"\n",
    "root_notebooks = \"/Users/alper/Documents/Programming/Notebooks\"\n",
    "OVERWRITE = False\n",
    "\n",
    "current_playlists = os.listdir(root_dj)\n",
    "for playlist in list(playlists.keys())[:]:\n",
    "    name = playlists[playlist]\n",
    "    print(name, playlist)\n",
    "    \n",
    "    if name in current_playlists:\n",
    "        print('skipping')\n",
    "        continue\n",
    "    else:\n",
    "        os.makedirs(os.path.join(root_dj,name))\n",
    "        os.chdir(os.path.join(root_dj,name))\n",
    "        !spotdl f\"{playlist}\"\n",
    "        print(os.getcwd())\n",
    "        \n",
    "#     with open(os.path.join(root_dj,'logs.txt'), 'w') as f:\n",
    "#         f.write(logs.stdout)\n",
    "    \n",
    "    \n"
   ]
  },
  {
   "cell_type": "code",
   "execution_count": null,
   "id": "5f13e1e7-15ae-4eda-99f2-1147e0eab9cd",
   "metadata": {},
   "outputs": [],
   "source": [
    "conditions = [\n",
    "    (df_vivid['Seconds'] <= 60),\n",
    "    (df_vivid['Seconds'] > 60) & (df_vivid['Seconds'] <= 120),\n",
    "    (df_vivid['Seconds'] > 120) & (df_vivid['Seconds'] <= 180),\n",
    "    (df_vivid['Seconds'] > 180) & (df_vivid['Seconds'] <= 240),\n",
    "    (df_vivid['Seconds'] > 240) & (df_vivid['Seconds'] <= 300),\n",
    "    (df_vivid['Seconds'] > 300) & (df_vivid['Seconds'] <= 360),\n",
    "    (df_vivid['Seconds'] > 360) & (df_vivid['Seconds'] <= 420),\n",
    "    (df_vivid['Seconds'] > 420) & (df_vivid['Seconds'] <= 480),\n",
    "    (df_vivid['Seconds'] > 480) & (df_vivid['Seconds'] <= 540),\n",
    "    (df_vivid['Seconds'] > 540) & (df_vivid['Seconds'] <= 600),\n",
    "    (df_vivid['Seconds'] > 600)]\n",
    "\n",
    "# create a list of the values we want to assign for each condition\n",
    "values = ['0','1', '2', '3', '4','5', '6', '7', '8','9', '10']\n",
    "\n",
    "# create a new column and use np.select to assign values to it using our lists as arguments\n",
    "df_vivid['Minute Group'] = np.select(conditions, values)\n",
    "df_vivid.head()"
   ]
  },
  {
   "cell_type": "code",
   "execution_count": null,
   "id": "d23b7157-ec1f-4736-a9bf-3e82dcda4463",
   "metadata": {},
   "outputs": [],
   "source": [
    "df_vivid['BPM'].hist(bins=20,rwidth=0.5,color=\"#8142f5C0\")\n",
    "plt.title('Vivid | BPM')\n",
    "plt.xlabel('BPM')\n",
    "plt.ylabel('Count')\n",
    "plt.grid(visible = True,color='black', linestyle='-', linewidth=1,alpha = 0.1)\n",
    "plt.tight_layout()\n",
    "plt.savefig('BPM.jpg')"
   ]
  }
 ],
 "metadata": {
  "kernelspec": {
   "display_name": "Python 3 (ipykernel)",
   "language": "python",
   "name": "python3"
  },
  "language_info": {
   "codemirror_mode": {
    "name": "ipython",
    "version": 3
   },
   "file_extension": ".py",
   "mimetype": "text/x-python",
   "name": "python",
   "nbconvert_exporter": "python",
   "pygments_lexer": "ipython3",
   "version": "3.9.7"
  }
 },
 "nbformat": 4,
 "nbformat_minor": 5
}
